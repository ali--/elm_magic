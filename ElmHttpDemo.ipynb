{
 "cells": [
  {
   "cell_type": "code",
   "execution_count": null,
   "metadata": {
    "ExecuteTime": {
     "start_time": "2017-06-14T03:51:59.538Z"
    },
    "collapsed": true
   },
   "outputs": [],
   "source": [
    "%load_ext elm_magic"
   ]
  },
  {
   "cell_type": "code",
   "execution_count": null,
   "metadata": {
    "ExecuteTime": {
     "start_time": "2017-06-14T03:52:00.896Z"
    }
   },
   "outputs": [],
   "source": [
    "%config ElmMagic.elmdir=\"/tmp/myelm/\"\n",
    "%config ElmMagic"
   ]
  },
  {
   "cell_type": "code",
   "execution_count": null,
   "metadata": {
    "ExecuteTime": {
     "start_time": "2017-06-14T03:52:01.393Z"
    }
   },
   "outputs": [],
   "source": [
    "%%elm -i elm-lang/http elm-lang/html\n",
    "import Html exposing (..)\n",
    "import Html.Attributes exposing (..)\n",
    "import Html.Events exposing (..)\n",
    "import Http\n",
    "import Json.Decode as Decode\n",
    "\n",
    "main =\n",
    "  Html.program\n",
    "    { init = init \"cats\"\n",
    "    , view = view\n",
    "    , update = update\n",
    "    , subscriptions = subscriptions\n",
    "    }\n",
    "\n",
    "-- MODEL\n",
    "\n",
    "type alias Model =\n",
    "  { topic : String\n",
    "  , gifUrl : String\n",
    "  }\n",
    "\n",
    "init : String -> (Model, Cmd Msg)\n",
    "init topic =\n",
    "  ( Model topic \"waiting.gif\"\n",
    "  , getRandomGif topic\n",
    "  )\n",
    "\n",
    "-- UPDATE\n",
    "\n",
    "type Msg\n",
    "  = MorePlease\n",
    "  | NewGif (Result Http.Error String)\n",
    "\n",
    "update : Msg -> Model -> (Model, Cmd Msg)\n",
    "update msg model =\n",
    "  case msg of\n",
    "    MorePlease ->\n",
    "      (model, getRandomGif model.topic)\n",
    "\n",
    "    NewGif (Ok newUrl) ->\n",
    "      (Model model.topic newUrl, Cmd.none)\n",
    "\n",
    "    NewGif (Err _) ->\n",
    "      (model, Cmd.none)\n",
    "\n",
    "-- VIEW\n",
    "\n",
    "view : Model -> Html Msg\n",
    "view model =\n",
    "  div []\n",
    "    [ h2 [] [text model.topic]\n",
    "    , button [ onClick MorePlease ] [ text \"More Please!\" ]\n",
    "    , br [] []\n",
    "    , img [src model.gifUrl] []\n",
    "    ]\n",
    "\n",
    "-- SUBSCRIPTIONS\n",
    "\n",
    "subscriptions : Model -> Sub Msg\n",
    "subscriptions model =\n",
    "  Sub.none\n",
    "\n",
    "-- HTTP\n",
    "\n",
    "getRandomGif : String -> Cmd Msg\n",
    "getRandomGif topic =\n",
    "  let\n",
    "    url =\n",
    "      \"https://api.giphy.com/v1/gifs/random?api_key=dc6zaTOxFJmzC&tag=\" ++ topic\n",
    "  in\n",
    "    Http.send NewGif (Http.get url decodeGifUrl)\n",
    "\n",
    "decodeGifUrl : Decode.Decoder String\n",
    "decodeGifUrl =\n",
    "  Decode.at [\"data\", \"image_url\"] Decode.string"
   ]
  }
 ],
 "metadata": {
  "_draft": {
   "nbviewer_url": "https://gist.github.com/68d36f1b6026893bc08b22b053e2f42e"
  },
  "gist": {
   "data": {
    "description": "demo of http request using elm_magic ",
    "public": true
   },
   "id": "68d36f1b6026893bc08b22b053e2f42e"
  },
  "kernelspec": {
   "display_name": "Snap",
   "language": "",
   "name": "snapkernel"
  },
  "language_info": {
   "codemirror_mode": {
    "name": "python",
    "version": 2
   },
   "mimetype": "text/x-python",
   "name": "pyspark",
   "pygments_lexer": "python2"
  },
  "toc": {
   "colors": {
    "hover_highlight": "#DAA520",
    "navigate_num": "#000000",
    "navigate_text": "#333333",
    "running_highlight": "#FF0000",
    "selected_highlight": "#FFD700",
    "sidebar_border": "#EEEEEE",
    "wrapper_background": "#FFFFFF"
   },
   "moveMenuLeft": true,
   "nav_menu": {
    "height": "0px",
    "width": "0px"
   },
   "navigate_menu": true,
   "number_sections": true,
   "sideBar": true,
   "threshold": 4,
   "toc_cell": false,
   "toc_section_display": "block",
   "toc_window_display": false,
   "widenNotebook": false
  }
 },
 "nbformat": 4,
 "nbformat_minor": 2
}
