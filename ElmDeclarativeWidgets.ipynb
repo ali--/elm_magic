{
 "cells": [
  {
   "cell_type": "markdown",
   "metadata": {},
   "source": [
    "# Using Elm and Python Declarative Widgets"
   ]
  },
  {
   "cell_type": "markdown",
   "metadata": {},
   "source": [
    "## Install Jupyter Declarative widgets"
   ]
  },
  {
   "cell_type": "code",
   "execution_count": null,
   "metadata": {
    "ExecuteTime": {
     "end_time": "2017-06-14T03:45:03.737773Z",
     "start_time": "2017-06-14T03:44:59.363052Z"
    }
   },
   "outputs": [],
   "source": [
    "!pip install jupyter_declarativewidgets\n",
    "!pip install ipython==4.2\n",
    "!jupyter serverextension enable --py declarativewidgets --sys-prefix\n",
    "!jupyter nbextension install --py declarativewidgets --sys-prefix\n",
    "!jupyter nbextension enable --py declarativewidgets --sys-prefix"
   ]
  },
  {
   "cell_type": "code",
   "execution_count": 1,
   "metadata": {
    "ExecuteTime": {
     "end_time": "2017-06-14T03:46:03.693937Z",
     "start_time": "2017-06-14T03:46:03.684507Z"
    },
    "extensions": {
     "jupyter_dashboards": {
      "version": 1,
      "views": {
       "grid_default": {
        "hidden": true
       },
       "report_default": {}
      }
     }
    }
   },
   "outputs": [
    {
     "data": {
      "application/javascript": [
       "\n",
       "        window.Urth = window.Urth || {};\n",
       "        Urth._initialized = Urth._initialized || $.Deferred();\n",
       "        Urth.whenReady = Urth.whenReady || function(cb) {\n",
       "            Urth._initialized.then(function() {\n",
       "                Urth.whenReady(cb);\n",
       "            });\n",
       "        };\n",
       "        Urth.whenReady(function() { console.log(\"Declarative widgets connected.\") });\n",
       "        "
      ],
      "text/plain": [
       "<IPython.core.display.Javascript object>"
      ]
     },
     "metadata": {},
     "output_type": "display_data"
    }
   ],
   "source": [
    "import declarativewidgets as declwidgets\n",
    "declwidgets.init()"
   ]
  },
  {
   "cell_type": "markdown",
   "metadata": {},
   "source": [
    "## Create a python function and bind it to HTML elements"
   ]
  },
  {
   "cell_type": "code",
   "execution_count": 2,
   "metadata": {
    "ExecuteTime": {
     "end_time": "2017-06-14T03:46:04.846524Z",
     "start_time": "2017-06-14T03:46:04.843816Z"
    },
    "collapsed": true,
    "extensions": {
     "jupyter_dashboards": {
      "version": 1,
      "views": {
       "grid_default": {
        "hidden": true
       },
       "report_default": {}
      }
     }
    }
   },
   "outputs": [],
   "source": [
    "def aFunction(x=50):\n",
    "    return \"The return value is \" + str(x)"
   ]
  },
  {
   "cell_type": "code",
   "execution_count": 4,
   "metadata": {
    "ExecuteTime": {
     "end_time": "2017-06-14T03:45:03.910196Z",
     "start_time": "2017-06-14T03:45:03.901488Z"
    },
    "extensions": {
     "jupyter_dashboards": {
      "version": 1,
      "views": {
       "grid_default": {
        "col": 4,
        "height": 6,
        "hidden": false,
        "row": 0,
        "width": 7
       },
       "report_default": {}
      }
     }
    }
   },
   "outputs": [
    {
     "data": {
      "text/html": [
       "<template is=\"urth-core-bind\">\n",
       "    <urth-core-function id=\"myfuntion2\" ref=\"aFunction\" arg-x=\"{{x}}\" result=\"{{res}}\" auto></urth-core-function>\n",
       "    <form onSubmit=\"return false;\">\n",
       "        <label>x:</label>\n",
       "        <input type=\"text\" value=\"{{x::keypress}}\"></input>\n",
       "    </form>\n",
       "    <button onClick=\"myfunction2.invoke()\">click me too</button>\n",
       "    <h2>input:    [[x]]</h2>\n",
       "    <h2>result: [[res]]</h2>\n",
       "</template>"
      ],
      "text/plain": [
       "<IPython.core.display.HTML object>"
      ]
     },
     "metadata": {},
     "output_type": "display_data"
    }
   ],
   "source": [
    "%%html\n",
    "<template is=\"urth-core-bind\">\n",
    "    <urth-core-function id=\"myfuntion2\" ref=\"aFunction\" arg-x=\"{{x}}\" result=\"{{res}}\" auto></urth-core-function>\n",
    "    <form onSubmit=\"return false;\">\n",
    "        <label>x:</label>\n",
    "        <input type=\"text\" value=\"{{x::keypress}}\"></input>\n",
    "    </form>\n",
    "    <button onClick=\"myfunction2.invoke()\">click me too</button>\n",
    "    <h2>input:    [[x]]</h2>\n",
    "    <h2>result: [[res]]</h2>\n",
    "</template>"
   ]
  },
  {
   "cell_type": "markdown",
   "metadata": {},
   "source": [
    "## Load the elm magic"
   ]
  },
  {
   "cell_type": "code",
   "execution_count": 4,
   "metadata": {
    "ExecuteTime": {
     "end_time": "2017-06-14T03:47:04.377354Z",
     "start_time": "2017-06-14T03:47:04.371473Z"
    },
    "extensions": {
     "jupyter_dashboards": {
      "version": 1,
      "views": {
       "grid_default": {
        "hidden": true
       },
       "report_default": {}
      }
     }
    }
   },
   "outputs": [],
   "source": [
    "%reload_ext elm_magic"
   ]
  },
  {
   "cell_type": "code",
   "execution_count": 5,
   "metadata": {
    "ExecuteTime": {
     "end_time": "2017-06-14T03:47:04.584907Z",
     "start_time": "2017-06-14T03:47:04.546674Z"
    },
    "extensions": {
     "jupyter_dashboards": {
      "version": 1,
      "views": {
       "grid_default": {
        "col": 0,
        "height": 12,
        "hidden": false,
        "row": 0,
        "width": 4
       },
       "report_default": {}
      }
     }
    }
   },
   "outputs": [
    {
     "name": "stdout",
     "output_type": "stream",
     "text": [
      "ElmMagic options\n",
      "--------------\n",
      "ElmMagic.debug=<Bool>\n",
      "    Current: False\n",
      "    Display debuging output\n",
      "ElmMagic.elmdir=<Unicode>\n",
      "    Current: '/tmp/myelmdir'\n",
      "    Directory where elm-make will run. (This is where elm-stuff and elm-\n",
      "    package.json will be). Uses a temporary directory if not set by user\n",
      "ElmMagic.keep_sources=<Bool>\n",
      "    Current: False\n",
      "    Do not immediately delete the html/js generated by compilation\n",
      "ElmMagic.render=<Bool>\n",
      "    Current: False\n",
      "    Use elm-static-html to render the cell's contents before displaying\n"
     ]
    }
   ],
   "source": [
    "%config ElmMagic.elmdir = \"/tmp/myelmdir\"\n",
    "%config ElmMagic"
   ]
  },
  {
   "cell_type": "markdown",
   "metadata": {},
   "source": [
    "## Use elm to define the same html"
   ]
  },
  {
   "cell_type": "code",
   "execution_count": 6,
   "metadata": {
    "ExecuteTime": {
     "end_time": "2017-06-14T03:47:05.836860Z",
     "start_time": "2017-06-14T03:47:05.405695Z"
    },
    "extensions": {
     "jupyter_dashboards": {
      "version": 1,
      "views": {
       "grid_default": {
        "col": 4,
        "height": 43,
        "hidden": false,
        "row": 6,
        "width": 4
       },
       "report_default": {}
      }
     }
    }
   },
   "outputs": [
    {
     "data": {
      "text/html": [
       "<template is=\"urth-core-bind\">\n",
       "    <urth-core-function id=\"my_function_id\" ref=\"aFunction\" result=\"{{res}}\" x-args=\"{{x}}\">\n",
       "    </urth-core-function>\n",
       "    <form onSubmit=\"return false;\">\n",
       "        <label>\n",
       "            x:\n",
       "        </label>\n",
       "        <input type=\"text\" value=\"{{x::keypress}}\">\n",
       "    </form>\n",
       "    <button onClick=\"my_function_id.invoke()\">\n",
       "        Press Me\n",
       "    </button>\n",
       "    <h2>\n",
       "        Input:[[x]] \n",
       "    </h2>\n",
       "    <h2>\n",
       "        Result: [[res]] \n",
       "    </h2>\n",
       "</template>\n"
      ],
      "text/plain": [
       "<IPython.core.display.HTML object>"
      ]
     },
     "metadata": {},
     "output_type": "display_data"
    }
   ],
   "source": [
    "%%elm --render\n",
    "module Main exposing (..)\n",
    "\n",
    "import Html exposing (h2, div,node,text,form,label,input,button,span)\n",
    "import Html.Attributes exposing (attribute, class, href)\n",
    "\n",
    "view : Html.Html msg\n",
    "view =\n",
    "         node \"template\" [attribute \"is\" \"urth-core-bind\"] [\n",
    "                node \"urth-core-function\" [attribute \"id\" \"my_function_id\"\n",
    "                                           , attribute \"ref\" \"aFunction\"\n",
    "                                           , attribute \"x-args\" \"{{x}}\"\n",
    "                                           , attribute \"result\" \"{{res}}\"] []\n",
    "                ,form [ attribute \"onSubmit\" \"return false;\" ] [\n",
    "                    label [] [text \"x:\"]\n",
    "                    ,input [attribute \"type\" \"text\", attribute \"value\" \"{{x::keypress}}\"] []\n",
    "                ]\n",
    "                ,button [ attribute \"onClick\" \"my_function_id.invoke()\" ] [ \n",
    "                    text \"Press Me\" \n",
    "                ]\n",
    "                ,h2 [] [ text \"Input:[[x]] \"]\n",
    "                ,h2 [] [ text \"Result: [[res]] \" ]\n",
    "         ]"
   ]
  },
  {
   "cell_type": "code",
   "execution_count": null,
   "metadata": {
    "collapsed": true
   },
   "outputs": [],
   "source": []
  }
 ],
 "metadata": {
  "_draft": {
   "nbviewer_url": "https://gist.github.com/60261d86af6ab9b4a0a398f39cf40cc1"
  },
  "extensions": {
   "jupyter_dashboards": {
    "activeView": "grid_default",
    "version": 1,
    "views": {
     "grid_default": {
      "cellMargin": 10,
      "defaultCellHeight": 20,
      "maxColumns": 12,
      "name": "grid",
      "type": "grid"
     },
     "report_default": {
      "name": "report",
      "type": "report"
     }
    }
   }
  },
  "gist": {
   "data": {
    "description": "Elm-Python Declarative Widgets",
    "public": true
   },
   "id": "60261d86af6ab9b4a0a398f39cf40cc1"
  },
  "kernelspec": {
   "display_name": "Snap",
   "language": "",
   "name": "snapkernel"
  },
  "language_info": {
   "codemirror_mode": {
    "name": "python",
    "version": 2
   },
   "mimetype": "text/x-python",
   "name": "pyspark",
   "pygments_lexer": "python2"
  },
  "toc": {
   "colors": {
    "hover_highlight": "#DAA520",
    "navigate_num": "#000000",
    "navigate_text": "#333333",
    "running_highlight": "#FF0000",
    "selected_highlight": "#FFD700",
    "sidebar_border": "#EEEEEE",
    "wrapper_background": "#FFFFFF"
   },
   "moveMenuLeft": true,
   "nav_menu": {
    "height": "0px",
    "width": "0px"
   },
   "navigate_menu": true,
   "number_sections": true,
   "sideBar": true,
   "threshold": 4,
   "toc_cell": false,
   "toc_section_display": "block",
   "toc_window_display": false,
   "widenNotebook": false
  }
 },
 "nbformat": 4,
 "nbformat_minor": 2
}
